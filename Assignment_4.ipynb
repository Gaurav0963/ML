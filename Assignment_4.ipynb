{
 "cells": [
  {
   "cell_type": "markdown",
   "id": "e1b9b531",
   "metadata": {},
   "source": [
    "# Assignment 4"
   ]
  },
  {
   "cell_type": "markdown",
   "id": "56fb7a64",
   "metadata": {},
   "source": [
    "### Q1. What are the key tasks involved in getting ready to work with machine learning modeling?\n",
    "\n",
    "ANSWER : Working with machine learning modeling can be a complex task, and requires careful preparation to ensure that the results are accurate, reliable, and useful. Some key tasks involved in getting ready to work with machine learning modeling are:\n",
    "\n",
    "1. `Defining the problem` : Clearly defining the problem you are trying to solve and the goals of the project is crucial to identifying the appropriate machine learning techniques and algorithms to use.\n",
    "\n",
    "\n",
    "2. `Collecting and preparing data` : Collecting and preparing high-quality data is essential for building accurate machine learning models. This involves identifying relevant data sources, cleaning and preprocessing the data, and transforming the data into a format that can be used by the machine learning algorithms.\n",
    "\n",
    "\n",
    "3. `Exploratory data analysis` : Exploring the data to understand the distribution, relationships, and patterns in the data is important to identify potential issues with the data and inform feature selection and engineering.\n",
    "\n",
    "\n",
    "4. `Feature selection and engineering` : Identifying the most relevant features or variables that are predictive of the outcome variable is an important step in building accurate machine learning models. Feature engineering involves creating new features that can better capture patterns and relationships in the data.\n",
    "\n",
    "\n",
    "5. `Selecting an appropriate machine learning algorithm` : There are various types of machine learning algorithms available, including supervised and unsupervised learning, decision trees, neural networks, and others. Selecting an appropriate algorithm that is well-suited to the problem and data is crucial for building accurate and efficient models.\n",
    "\n",
    "\n",
    "6. `Training and validating the model` : Training the model involves using a subset of the data to fit the model, while validation involves evaluating the model's performance on a separate subset of the data. This helps identify potential issues with the model, such as overfitting or underfitting.\n",
    "\n",
    "\n",
    "7. `Tuning and evaluating the model` : Fine-tuning the model's parameters and hyperparameters can help improve its performance. Evaluating the model on different metrics, such as accuracy, precision, recall, and F1-score, can help identify areas for improvement and inform decisions about whether the model is suitable for deployment."
   ]
  },
  {
   "cell_type": "markdown",
   "id": "dc0e5f5b",
   "metadata": {},
   "source": [
    "### Q2. What are the different forms of data used in machine learning? Give a specific example for each of them.\n",
    "\n",
    "ANSWER : There are three main types of data used in machine learning: numerical, categorical, and text data.\n",
    "\n",
    "1. `Numerical data` : It consists of numbers and is often used in regression problems, where the goal is to predict a continuous value. Examples of numerical data include age, weight, height, temperature, and stock prices.\n",
    "\n",
    "2. `Categorical data` : It consists of discrete values that represent categories or groups, such as gender, ethnicity, or occupation. Categorical data is often used in classification problems, where the goal is to predict the class or category of a new observation. Examples of categorical data include eye color, blood type, and car make and model.\n",
    "\n",
    "3. `Text data` : It consists of unstructured text, such as email messages, social media posts, or news articles. Text data is often used in natural language processing (NLP) problems, such as sentiment analysis or text classification. Examples of text data include product reviews, customer feedback, and news headlines.\n",
    "\n",
    "4. `Time series data` : It is a sequence of data points collected at regular intervals over time. These data points typically consist of successive measurements made from the same source over a fixed time interval and are used to track change over time. Examples include : \n",
    "    * Weather records such as temperature, humidity, and precipitation measurements taken at regular intervals.\n",
    "    * Economic indicators such as stock prices or exchange rates captured over time to detect trends\n"
   ]
  },
  {
   "cell_type": "markdown",
   "id": "d064d766",
   "metadata": {},
   "source": [
    "### Q3. Distinguish:\n",
    "### 1. Numeric vs. categorical attributes\n",
    "\n",
    "ANSWER : Numeric and categorical attributes are two types of variables that can be used in machine learning.\n",
    "\n",
    "* Numeric attributes are variables that represent numerical values, such as height, weight, temperature, or age. Numeric attributes can be continuous or discrete. \n",
    "    * Continuous numeric attributes can take any value within a range, while discrete numeric attributes can only take specific values within a range.\n",
    "    * Numeric attributes are typically used in regression problems, where the goal is to predict a continuous value.\n",
    "\n",
    "\n",
    "* Categorical attributes are variables that represent categories or groups, such as gender, occupation, or color. Categorical attributes can be nominal or ordinal. \n",
    "    * Nominal categorical attributes do not have an inherent ordering, while ordinal categorical attributes have a natural ordering. \n",
    "    * Categorical attributes are typically used in classification problems, where the goal is to predict the class or category of a new observation.\n",
    "\n",
    "Difference between Numeric and Categorical attributes:\n",
    "\n",
    "1. `Data type` : Numeric attributes are represented as numbers, while categorical attributes are represented as text or labels.\n",
    "\n",
    "2. `Range of values` : Numeric attributes have a range of possible values that can be continuous or discrete, while categorical attributes have a finite number of possible values.\n",
    "\n",
    "3. `Mathematical operations` : Numeric attributes can be used in mathematical operations, such as addition or multiplication, while categorical attributes cannot.\n",
    "\n",
    "4. `Role in machine learning` : Numeric attributes are typically used in regression problems, while categorical attributes are typically used in classification problems.\n",
    "\n",
    "\n",
    "### 2. Feature selection vs. dimensionality reduction\n",
    "\n",
    "ANSWER : Feature selection and dimensionality reduction are both techniques used in machine learning to reduce the number of features used in a model. However, they differ in their approach and objectives.\n",
    "\n",
    "* Feature selection is the process of selecting a subset of the most relevant features from the original set of features. The goal is to reduce the number of features used in the model while still maintaining high accuracy. Feature selection can be done using different methods, such as _correlation-based feature selection, wrapper-based feature selection, and filter-based feature selection._\n",
    "\n",
    "* Dimensionality reduction is the process of transforming the original set of features into a lower-dimensional space. The goal is to reduce the complexity of the dataset by capturing the most important information while discarding redundant or noisy features. Dimensionality reduction can be done using techniques such as Principal Component Analysis (PCA), t-SNE, and LLE.\n",
    "\n",
    "The main difference between feature selection and dimensionality reduction is that feature selection chooses a subset of the original features to use, while dimensionality reduction creates new features that are a combination of the original features. Feature selection is generally used when the original features are informative and there is a need to simplify the model, while dimensionality reduction is used when the original features are redundant or noisy and there is a need to capture the underlying structure of the data.\n",
    "\n",
    "Feature selection and dimensionality reduction are both useful techniques in machine learning for reducing the number of features used in a model. Feature selection aims to select a subset of the original features, while dimensionality reduction aims to transform the original features into a lower-dimensional space."
   ]
  },
  {
   "cell_type": "markdown",
   "id": "b6e6bdc3",
   "metadata": {},
   "source": [
    "### Q4. Make quick notes on `any two` of the following:\n",
    "\n",
    "### 1. The histogram\n",
    "\n",
    "ANSWER : \n",
    "* A histogram is a graphical representation of the distribution of a dataset. It is a bar graph-like representation of data that splits a range of continuous values into a set of intervals, or \"bins\", and counts the number of observations that fall into each bin. The width of each bin is determined by the range of values in the dataset, while the height of each bar represents the number of observations in each bin.\n",
    "\n",
    "* Histograms are commonly used in data analysis and statistics to visualize the distribution of a dataset. They are especially useful for identifying the shape of the distribution, including its central tendency, spread, and any potential outliers. A histogram can also provide insight into the underlying population and inform decisions about data transformation or model selection.\n",
    "\n",
    "* When creating a histogram, it is important to choose an appropriate number of bins to avoid oversimplification or overcomplication of the distribution. The choice of bin size can also have an impact on the shape of the distribution, and it may be necessary to experiment with different bin sizes to find the optimal representation of the data.\n",
    "\n",
    "\n",
    "### 2. Use a scatter plot\n",
    "\n",
    "ANSWER : A scatter plot is a type of data visualization used in statistics and data analysis to display the relationship between two variables. In a scatter plot, each point represents an observation or data point and is plotted on a Cartesian coordinate system, where the horizontal axis represents one variable and the vertical axis represents the other variable.\n",
    "\n",
    "Scatter plots are used to identify patterns and relationships between two variables. They are particularly useful for identifying correlations between variables and detecting outliers or anomalies in the data. Scatter plots can also be used to visualize the distribution of the data along each axis.\n",
    "\n",
    "In a scatter plot, the points can be color-coded or labeled to represent additional variables or categories, such as a third variable or the groups to which the data points belong. This can provide additional insights into the relationship between the variables and help identify any underlying patterns or trends.\n",
    "\n",
    "\n",
    "### 3. PCA (Personal Computer Aid)"
   ]
  },
  {
   "cell_type": "markdown",
   "id": "ae427ba2",
   "metadata": {},
   "source": [
    "### Q5. Why is it necessary to investigate data? Is there a discrepancy in how qualitative and quantitative data are explored?\n",
    "\n",
    "ANSWER : Investigating data is a critical step in the data analysis process, regardless of whether the data is qualitative or quantitative. It is necessary to investigate data to gain insights into the patterns, trends, and relationships that may exist within the data, and to identify any potential issues or anomalies that may affect the validity and reliability of the results.\n",
    "\n",
    "There are several reasons why investigating data is important: \n",
    "1. It helps to ensure that the data is complete, accurate, and reliable. By examining the data, researchers can identify any missing values, outliers, or errors that may affect the results of their analysis. \n",
    "2. Investigating data can help to identify any underlying patterns or trends in the data that may be of interest or significance. This can help researchers to formulate hypotheses or develop new theories about the phenomenon being studied. \n",
    "3. Investigating data can help to identify potential limitations or constraints that may affect the generalizability of the findings.\n",
    "\n",
    "There are some differences in how qualitative and quantitative data are explored. \n",
    "* Qualitative data is typically explored using techniques such as content analysis, thematic analysis, and grounded theory. These techniques involve examining the text or narrative data in detail to identify common themes, patterns, and categories. \n",
    "* Quantitative data is typically explored using statistical techniques such as descriptive statistics, correlation analysis, and regression analysis. These techniques involve analyzing the numerical data to identify relationships between variables and to test hypotheses.\n",
    "\n",
    "In summary, investigating data is a critical step in the data analysis process, regardless of whether the data is qualitative or quantitative. By examining the data, researchers can identify potential issues, gain insights into the patterns and trends in the data, and identify potential limitations or constraints that may affect the generalizability of the findings. While there are some differences in how qualitative and quantitative data are explored, the overall goal of investigating data remains the same."
   ]
  },
  {
   "cell_type": "markdown",
   "id": "d59f31d6",
   "metadata": {},
   "source": [
    "### Q6. What are the various histogram shapes? What exactly are bins?\n",
    "\n",
    "ANSWER : Various shapes of histograms are enumerated below : \n",
    "1. A common pattern is the bell-shaped curve known as the \"normal distribution.\" In a normal or \"typical\" distribution, points are as likely to occur on one side of the average as on the other. \n",
    "    * Note : other distributions look similar to the normal distribution. Statistical calculations must be used to prove a normal distribution.\n",
    "    \n",
    "    \n",
    "2. Double-Peaked or Bimodal : The bimodal distribution looks like the back of a two-humped camel. The outcomes of two processes with different distributions are combined in one set of data. For example, a distribution of production data from a two-shift operation might be bimodal, if each shift produces a different distribution of results. Stratification often reveals this problem.\n",
    "\n",
    "\n",
    "3. Right-skewed distribution: A right-skewed distribution is also called a positively skewed distribution. In a right-skewed distribution, a large number of data values occur on the left side with a fewer number of data values on the right side. A right-skewed distribution usually occurs when the data has a range boundary on the left-hand side of the histogram. For example, a boundary of 0.\n",
    "\n",
    "\n",
    "4. Left-skewed distribution: A left-skewed distribution is also called a negatively skewed distribution. In a left-skewed distribution, a large number of data values occur on the right side with a fewer number of data values on the left side. A right-skewed distribution usually occurs when the data has a range boundary on the right-hand side of the histogram. For example, a boundary such as 100.\n",
    "\n",
    "\n",
    "5. Random distribution: A random distribution lacks an apparent pattern and has several peaks. In a random distribution histogram, it can be the case that different data properties were combined. Therefore, the data should be separated and analyzed separately.\n",
    "\n",
    "\n",
    "6. `Plateau or Multimodal Distribution` : The plateau might be called a _multimodal distribution_. Several processes with normal distributions are combined. Because there are many peaks close together, the top of the distribution resembles a plateau.\n",
    "\n",
    "\n",
    "7. `Edge Peak Distribution` : The edge peak distribution looks like the normal distribution except that it has a large peak at one tail. Usually this is caused by faulty construction of the histogram, with data lumped together into a group labeled “greater than.”\n",
    "\n",
    "Bins are the intervals into which the data is divided in a histogram. The number of bins determines the level of detail in the histogram, and the width of the bins determines the size of the range of values included in each bin. \n",
    "    \n",
    "    Width of each bin = (max value in data - min value in data) / total number of bins.\n",
    "\n",
    "Choosing the appropriate number of bins is important for accurately representing the distribution of the data. If there are too few bins, important features of the distribution may be missed, while if there are too many bins, noise or randomness in the data may be overemphasized. The number of bins can be selected using a variety of methods, such as Sturges' formula or Scott's rule, which take into account the size of the dataset and the range of values.\n"
   ]
  },
  {
   "cell_type": "markdown",
   "id": "c1fdcd35",
   "metadata": {},
   "source": [
    "### Q7. How do we deal with data outliers?\n",
    "\n",
    "ANSWER : Outliers are data points that are significantly different from other observations in the dataset. Outliers can occur due to measurement errors, data entry errors, or due to natural variations in the data. Dealing with outliers is important because they can skew the results of statistical analysis and lead to incorrect conclusions.\n",
    "\n",
    "Here are some ways to deal with outliers:\n",
    "\n",
    "1. `Removal` : One approach to dealing with outliers is to simply remove them from the dataset. This should be done with caution, however, as removing too many outliers can lead to a loss of information and bias in the analysis. Before removing an outlier, it's important to investigate the cause of the outlier and make sure that it's not a valid data point.\n",
    "\n",
    "2. `Transformation` : Another approach is to transform the data using a mathematical function to make it more normally distributed. For example, logarithmic transformation can be used to transform positively skewed data.\n",
    "\n",
    "3. `Winsorization` : Winsorization involves replacing extreme values with less extreme values. For example, the upper 5% of data can be replaced with the 95th percentile value.\n",
    "\n",
    "4. `Robust statistical methods` : Robust statistical methods are less sensitive to outliers and can be used to analyze data that contains outliers. For example, the median is a robust measure of central tendency that is less affected by outliers than the mean.\n",
    "\n",
    "5. `Reporting` : Outliers should always be reported in the analysis along with the reason for their presence and the method used to deal with them.\n",
    "\n",
    "In summary, the approach used to deal with outliers depends on the cause and nature of the outliers, and the specific goals of the analysis. It's important to use caution when dealing with outliers and to choose an approach that is appropriate for the dataset and analysis."
   ]
  },
  {
   "cell_type": "markdown",
   "id": "80a72390",
   "metadata": {},
   "source": [
    "### Q8. What are the various central inclination measures? Why does mean vary too much from median in certain data sets?\n",
    "\n",
    "ANSWER : Central inclination measures are statistical measures that describe the central or typical value of a dataset. The three most commonly used central tendency measures are the mean, median, and mode.\n",
    "\n",
    "1. Mean: The mean is the sum of all the observations in the dataset divided by the number of observations. The mean is sensitive to extreme values (outliers) in the data, and it can vary significantly from the median in datasets with outliers.\n",
    "\n",
    "2. Median: The median is the middle value of the dataset when it is ordered from smallest to largest. The median is a more robust measure of central tendency that is less sensitive to extreme values (outliers) in the data. It is often preferred over the mean when the dataset contains outliers.\n",
    "\n",
    "3. Mode: The mode is the value that occurs most frequently in the dataset. The mode is often used for categorical data or data that is not numerical.\n",
    "\n",
    "4. Truncated mean : It's a type of mean that is calculated by excluding a certain percentage of the highest and lowest values from a dataset before calculating the mean. The truncated mean is used when the dataset contains extreme values or outliers that can skew the results of the analysis.\n",
    "\n",
    "In certain datasets, the mean can vary significantly from the median when there are outliers present. Outliers can have a disproportionate impact on the mean because they can increase or decrease the sum of the dataset, which in turn affects the mean. The median, on the other hand, is not affected by outliers because it only considers the middle value(s) of the dataset."
   ]
  },
  {
   "cell_type": "markdown",
   "id": "cc4e8192",
   "metadata": {},
   "source": [
    "### Q9. Describe how a scatter plot can be used to investigate bivariate relationships. Is it possible to find outliers using a scatter plot?\n",
    "\n",
    "ANSWER : A scatter plot is a graph that is used to display the relationship between two variables in a dataset. It is useful for investigating bivariate relationships, where we are interested in how two variables are related to each other.\n",
    "* To create a scatter plot, we plot the values of one variable on the horizontal axis and the values of the other variable on the vertical axis. Each data point in the scatter plot represents a single observation in the dataset.\n",
    "\n",
    "While looking at a scatter plot, you should be able to describe the association between the variables by:\n",
    "1. Mentioning the form (linear or nonlinear), \n",
    "2. Direction (positive or negative), \n",
    "3. Strength (strong, moderately strong, or weak) of the association can be determined by the slope of the line of best fit, which can be added to the scatter plot. \n",
    "4. Presence of any outliers.\n",
    "\n",
    "Scatter plots can help you find multiple types of outliers. Some outliers have extreme values and are distanced from other data points. Unusual observations have values that are not necessarily extreme but do not fit the observed relationship. For example, in our height and weight scatter plot, an outlier might be a person who is very tall but has a very low weight or a person who is very short but has a very high weight. These points would be far away from the general pattern of the other points on the scatter plot."
   ]
  },
  {
   "cell_type": "code",
   "execution_count": 1,
   "id": "9b3ebbc0",
   "metadata": {},
   "outputs": [
    {
     "data": {
      "image/png": "[encoded data removed]",
      "text/plain": [
       "<Figure size 432x288 with 1 Axes>"
      ]
     },
     "metadata": {
      "needs_background": "light"
     },
     "output_type": "display_data"
    }
   ],
   "source": [
    "import matplotlib.pyplot as plt\n",
    "\n",
    "# sample data\n",
    "x = [1, 2, 3, 4, 5, 6, 7, 8]\n",
    "y = [2, 4, 5, 4, 8, 7, 9, 20]\n",
    "\n",
    "# create scatter plot\n",
    "plt.scatter(x, y)\n",
    "\n",
    "# add labels and title\n",
    "plt.xlabel('X')\n",
    "plt.ylabel('Y')\n",
    "plt.title('Scatter Plot')\n",
    "\n",
    "# show plot\n",
    "plt.show()\n",
    "\n",
    "# the point (8,20) is an outlier because it is far away from the other points."
   ]
  },
  {
   "cell_type": "markdown",
   "id": "051fd677",
   "metadata": {},
   "source": [
    "### Q10. Describe how cross-tabs can be used to figure out how two variables are related.\n",
    "\n",
    "ANSWER : Cross-tabulation, also known as contingency table analysis, is a statistical technique that is often used to explore the relationship between two categorical variables. It involves tabulating the frequency of each combination of categories for the two variables and then analyzing the resulting table to see if there is a relationship between them.\n",
    "\n",
    "To use cross-tabs to figure out how two variables are related, you would first create a table that shows the distribution of each variable separately. Then, you would cross-tabulate the two variables by creating a table that shows the frequency of each combination of categories.\n",
    "\n",
    "Once you have created the cross-tabulation table, you can analyze it to determine if there is a relationship between the two variables. One common technique is to calculate a chi-square test statistic, which measures the degree of association between the two variables. If the chi-square value is large enough, it suggests that the two variables are related.\n",
    "\n",
    "Another approach is to calculate the percentage of each category that falls into each combination of categories. This can help you visualize the relationship between the two variables and identify any patterns or trends.\n",
    "\n",
    "Overall, cross-tabs can be a useful tool for exploring the relationship between two categorical variables, and can provide insights into how they may be related."
   ]
  }
 ],
 "metadata": {
  "kernelspec": {
   "display_name": "Python 3 (ipykernel)",
   "language": "python",
   "name": "python3"
  },
  "language_info": {
   "codemirror_mode": {
    "name": "ipython",
    "version": 3
   },
   "file_extension": ".py",
   "mimetype": "text/x-python",
   "name": "python",
   "nbconvert_exporter": "python",
   "pygments_lexer": "ipython3",
   "version": "3.9.12"
  }
 },
 "nbformat": 4,
 "nbformat_minor": 5
}
